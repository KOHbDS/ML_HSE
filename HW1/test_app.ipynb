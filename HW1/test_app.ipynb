{
 "cells": [
  {
   "cell_type": "code",
   "execution_count": 77,
   "metadata": {},
   "outputs": [],
   "source": [
    "import requests"
   ]
  },
  {
   "cell_type": "code",
   "execution_count": 78,
   "metadata": {},
   "outputs": [],
   "source": [
    "base_sample = {\n",
    "  'name': 'Maruti Swift Dzire VDI',\n",
    "  'year': 2014,\n",
    "  'selling_price': 450000,\n",
    "  'km_driven': 145500,\n",
    "  'fuel': 'Diesel',\n",
    "  'seller_type': 'Individual',\n",
    "  'transmission': 'Manual',\n",
    "  'owner': 'First Owner',\n",
    "  'mileage': '23.4 kmpl',\n",
    "  'engine': '1248 CC',\n",
    "  'max_power': '74 bhp',\n",
    "  'torque': '190Nm@ 2000rpm',\n",
    "  'seats': 5.0\n",
    "  }"
   ]
  },
  {
   "cell_type": "code",
   "execution_count": 79,
   "metadata": {},
   "outputs": [],
   "source": [
    "url_item = \"http://127.0.0.1:8000/predict_item\"\n",
    "url_items = \"http://127.0.0.1:8000/predict_items\""
   ]
  },
  {
   "cell_type": "code",
   "execution_count": 80,
   "metadata": {},
   "outputs": [
    {
     "data": {
      "text/plain": [
       "460758.75908073946"
      ]
     },
     "execution_count": 80,
     "metadata": {},
     "output_type": "execute_result"
    }
   ],
   "source": [
    "res = requests.post(url_item, json=base_sample)\n",
    "res.json()"
   ]
  },
  {
   "cell_type": "code",
   "execution_count": 81,
   "metadata": {},
   "outputs": [],
   "source": [
    "file_path_csv = '/workspaces/ML_HSE/test_df.csv'\n",
    "with open(file_path_csv, 'rb') as f:\n",
    "    files = {'csv_file': f}\n",
    "    response = requests.post(url_items, files=files)\n"
   ]
  },
  {
   "cell_type": "code",
   "execution_count": 82,
   "metadata": {},
   "outputs": [
    {
     "data": {
      "text/html": [
       "<div>\n",
       "<style scoped>\n",
       "    .dataframe tbody tr th:only-of-type {\n",
       "        vertical-align: middle;\n",
       "    }\n",
       "\n",
       "    .dataframe tbody tr th {\n",
       "        vertical-align: top;\n",
       "    }\n",
       "\n",
       "    .dataframe thead th {\n",
       "        text-align: right;\n",
       "    }\n",
       "</style>\n",
       "<table border=\"1\" class=\"dataframe\">\n",
       "  <thead>\n",
       "    <tr style=\"text-align: right;\">\n",
       "      <th></th>\n",
       "      <th>Unnamed: 0</th>\n",
       "      <th>name</th>\n",
       "      <th>year</th>\n",
       "      <th>selling_price</th>\n",
       "      <th>km_driven</th>\n",
       "      <th>fuel</th>\n",
       "      <th>seller_type</th>\n",
       "      <th>transmission</th>\n",
       "      <th>owner</th>\n",
       "      <th>mileage</th>\n",
       "      <th>engine</th>\n",
       "      <th>max_power</th>\n",
       "      <th>torque</th>\n",
       "      <th>seats</th>\n",
       "      <th>predict</th>\n",
       "    </tr>\n",
       "  </thead>\n",
       "  <tbody>\n",
       "    <tr>\n",
       "      <th>0</th>\n",
       "      <td>0</td>\n",
       "      <td>Mahindra Xylo E4 BS IV</td>\n",
       "      <td>2010</td>\n",
       "      <td>229999</td>\n",
       "      <td>168000</td>\n",
       "      <td>Diesel</td>\n",
       "      <td>Individual</td>\n",
       "      <td>Manual</td>\n",
       "      <td>First Owner</td>\n",
       "      <td>14.0 kmpl</td>\n",
       "      <td>2498 CC</td>\n",
       "      <td>112 bhp</td>\n",
       "      <td>260 Nm at 1800-2200 rpm</td>\n",
       "      <td>7.0</td>\n",
       "      <td>348928.900058</td>\n",
       "    </tr>\n",
       "    <tr>\n",
       "      <th>1</th>\n",
       "      <td>1</td>\n",
       "      <td>Tata Nexon 1.5 Revotorq XE</td>\n",
       "      <td>2017</td>\n",
       "      <td>665000</td>\n",
       "      <td>25000</td>\n",
       "      <td>Diesel</td>\n",
       "      <td>Individual</td>\n",
       "      <td>Manual</td>\n",
       "      <td>First Owner</td>\n",
       "      <td>21.5 kmpl</td>\n",
       "      <td>1497 CC</td>\n",
       "      <td>108.5 bhp</td>\n",
       "      <td>260Nm@ 1500-2750rpm</td>\n",
       "      <td>5.0</td>\n",
       "      <td>821786.532585</td>\n",
       "    </tr>\n",
       "    <tr>\n",
       "      <th>2</th>\n",
       "      <td>2</td>\n",
       "      <td>Honda Civic 1.8 S AT</td>\n",
       "      <td>2007</td>\n",
       "      <td>175000</td>\n",
       "      <td>218463</td>\n",
       "      <td>Petrol</td>\n",
       "      <td>Individual</td>\n",
       "      <td>Automatic</td>\n",
       "      <td>First Owner</td>\n",
       "      <td>12.9 kmpl</td>\n",
       "      <td>1799 CC</td>\n",
       "      <td>130 bhp</td>\n",
       "      <td>172Nm@ 4300rpm</td>\n",
       "      <td>5.0</td>\n",
       "      <td>-3994.067217</td>\n",
       "    </tr>\n",
       "    <tr>\n",
       "      <th>3</th>\n",
       "      <td>3</td>\n",
       "      <td>Honda City i DTEC VX</td>\n",
       "      <td>2015</td>\n",
       "      <td>635000</td>\n",
       "      <td>173000</td>\n",
       "      <td>Diesel</td>\n",
       "      <td>Individual</td>\n",
       "      <td>Manual</td>\n",
       "      <td>First Owner</td>\n",
       "      <td>25.1 kmpl</td>\n",
       "      <td>1498 CC</td>\n",
       "      <td>98.6 bhp</td>\n",
       "      <td>200Nm@ 1750rpm</td>\n",
       "      <td>5.0</td>\n",
       "      <td>380415.080757</td>\n",
       "    </tr>\n",
       "    <tr>\n",
       "      <th>4</th>\n",
       "      <td>4</td>\n",
       "      <td>Tata Indica Vista Aura 1.2 Safire BSIV</td>\n",
       "      <td>2011</td>\n",
       "      <td>130000</td>\n",
       "      <td>70000</td>\n",
       "      <td>Petrol</td>\n",
       "      <td>Individual</td>\n",
       "      <td>Manual</td>\n",
       "      <td>Second Owner</td>\n",
       "      <td>16.5 kmpl</td>\n",
       "      <td>1172 CC</td>\n",
       "      <td>65 bhp</td>\n",
       "      <td>96  Nm at 3000  rpm</td>\n",
       "      <td>5.0</td>\n",
       "      <td>93293.644951</td>\n",
       "    </tr>\n",
       "  </tbody>\n",
       "</table>\n",
       "</div>"
      ],
      "text/plain": [
       "   Unnamed: 0                                    name  year  selling_price  \\\n",
       "0           0                  Mahindra Xylo E4 BS IV  2010         229999   \n",
       "1           1              Tata Nexon 1.5 Revotorq XE  2017         665000   \n",
       "2           2                    Honda Civic 1.8 S AT  2007         175000   \n",
       "3           3                    Honda City i DTEC VX  2015         635000   \n",
       "4           4  Tata Indica Vista Aura 1.2 Safire BSIV  2011         130000   \n",
       "\n",
       "   km_driven    fuel seller_type transmission         owner    mileage  \\\n",
       "0     168000  Diesel  Individual       Manual   First Owner  14.0 kmpl   \n",
       "1      25000  Diesel  Individual       Manual   First Owner  21.5 kmpl   \n",
       "2     218463  Petrol  Individual    Automatic   First Owner  12.9 kmpl   \n",
       "3     173000  Diesel  Individual       Manual   First Owner  25.1 kmpl   \n",
       "4      70000  Petrol  Individual       Manual  Second Owner  16.5 kmpl   \n",
       "\n",
       "    engine  max_power                   torque  seats        predict  \n",
       "0  2498 CC    112 bhp  260 Nm at 1800-2200 rpm    7.0  348928.900058  \n",
       "1  1497 CC  108.5 bhp      260Nm@ 1500-2750rpm    5.0  821786.532585  \n",
       "2  1799 CC    130 bhp           172Nm@ 4300rpm    5.0   -3994.067217  \n",
       "3  1498 CC   98.6 bhp           200Nm@ 1750rpm    5.0  380415.080757  \n",
       "4  1172 CC     65 bhp     96  Nm at 3000  rpm     5.0   93293.644951  "
      ]
     },
     "execution_count": 82,
     "metadata": {},
     "output_type": "execute_result"
    }
   ],
   "source": [
    "pd.DataFrame.from_dict(response.json(), orient='index')"
   ]
  },
  {
   "cell_type": "code",
   "execution_count": null,
   "metadata": {},
   "outputs": [],
   "source": []
  }
 ],
 "metadata": {
  "kernelspec": {
   "display_name": "Python 3",
   "language": "python",
   "name": "python3"
  },
  "language_info": {
   "codemirror_mode": {
    "name": "ipython",
    "version": 3
   },
   "file_extension": ".py",
   "mimetype": "text/x-python",
   "name": "python",
   "nbconvert_exporter": "python",
   "pygments_lexer": "ipython3",
   "version": "3.12.1"
  }
 },
 "nbformat": 4,
 "nbformat_minor": 2
}
